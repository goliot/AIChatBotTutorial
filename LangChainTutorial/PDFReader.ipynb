{
 "cells": [
  {
   "cell_type": "code",
   "execution_count": 7,
   "id": "6483534f",
   "metadata": {},
   "outputs": [],
   "source": [
    "from langchain_community.document_loaders import PyPDFLoader\n",
    "\n",
    "# 파일 경로 설정\n",
    "loader = PyPDFLoader(\"애국가.pdf\")"
   ]
  },
  {
   "cell_type": "code",
   "execution_count": 8,
   "id": "067b6e22",
   "metadata": {},
   "outputs": [],
   "source": [
    "# PDF 로더 초기화\n",
    "docs = loader.load()"
   ]
  },
  {
   "cell_type": "code",
   "execution_count": 10,
   "id": "bb2979e1",
   "metadata": {},
   "outputs": [
    {
     "name": "stdout",
     "output_type": "stream",
     "text": [
      "대한민국 애국가\n",
      "(1절)\n",
      "동해 물과 백두산이 마르고 닳도록\n",
      "하느님이 보우하사 우리나라 만세\n",
      "무궁화 삼천리 화려강산\n",
      "대한 사람 대한으로 길이 보전하세\n",
      "(2절)\n",
      "남산 위에 저 소나무 철갑을 두른 듯\n",
      "바람 서리 불변함은 우리 기상일세\n",
      "무궁화 삼천리 화려강산\n",
      "대한 사람 대한으로 길이 보전하세\n",
      "(3절)\n",
      "가을 하늘 공활한데 높고 구름 없이\n",
      "밝은 달은 우리 가슴 일편단심일세\n",
      "무궁화 삼천리 화려강산\n",
      "대한 사람 대한으로 길이 보전하세\n",
      "(4절)\n",
      "이 기상과 이 맘으로 충성을 다하여\n",
      "괴로우나 즐거우나 나라 사랑하 세\n",
      "무궁화 삼천리 화려강산\n",
      "대한 사람 대한으로 길이 보전하세\n"
     ]
    }
   ],
   "source": [
    "# 문서의 내용 출력\n",
    "print(docs[0].page_content[0:])"
   ]
  },
  {
   "cell_type": "code",
   "execution_count": null,
   "id": "0a78a677",
   "metadata": {},
   "outputs": [],
   "source": []
  }
 ],
 "metadata": {
  "kernelspec": {
   "display_name": ".venv",
   "language": "python",
   "name": "python3"
  },
  "language_info": {
   "codemirror_mode": {
    "name": "ipython",
    "version": 3
   },
   "file_extension": ".py",
   "mimetype": "text/x-python",
   "name": "python",
   "nbconvert_exporter": "python",
   "pygments_lexer": "ipython3",
   "version": "3.13.3"
  }
 },
 "nbformat": 4,
 "nbformat_minor": 5
}
